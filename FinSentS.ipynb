{
 "cells": [
  {
   "cell_type": "code",
   "execution_count": 1,
   "metadata": {},
   "outputs": [
    {
     "name": "stderr",
     "output_type": "stream",
     "text": [
      "c:\\users\\user\\appdata\\local\\programs\\python\\python36-32\\lib\\site-packages\\sklearn\\cross_validation.py:44: DeprecationWarning: This module was deprecated in version 0.18 in favor of the model_selection module into which all the refactored classes and functions are moved. Also note that the interface of the new CV iterators are different from that of this module. This module will be removed in 0.20.\n",
      "  \"This module will be removed in 0.20.\", DeprecationWarning)\n"
     ]
    }
   ],
   "source": [
    "import pandas as pd\n",
    "import io\n",
    "import requests\n",
    "import quandl, math\n",
    "import numpy as np\n",
    "from sklearn import preprocessing, cross_validation, svm\n",
    "from sklearn.linear_model import LinearRegression\n",
    "from sklearn import linear_model\n",
    "import datetime\n",
    "import matplotlib.pyplot as plt\n",
    "from matplotlib import style\n",
    "\n"
   ]
  },
  {
   "cell_type": "code",
   "execution_count": 2,
   "metadata": {},
   "outputs": [
    {
     "name": "stderr",
     "output_type": "stream",
     "text": [
      "c:\\users\\user\\appdata\\local\\programs\\python\\python36-32\\lib\\site-packages\\ipykernel_launcher.py:2: FutureWarning: convert_objects is deprecated.  Use the data-type specific converters pd.to_datetime, pd.to_timedelta and pd.to_numeric.\n",
      "  \n"
     ]
    },
    {
     "name": "stdout",
     "output_type": "stream",
     "text": [
      "Linear Regression Accuracy Is 0.976899160585\n",
      "Predicted AAPL closing price for the next 10 trading days: [ 171.60898103  169.57156316  172.10683972  172.07163163  172.97148138\n",
      "  174.7614164   174.22544024  174.26792077  174.26829313  175.3920659 ]\n"
     ]
    },
    {
     "name": "stderr",
     "output_type": "stream",
     "text": [
      "c:\\users\\user\\appdata\\local\\programs\\python\\python36-32\\lib\\site-packages\\ipykernel_launcher.py:14: FutureWarning: convert_objects is deprecated.  Use the data-type specific converters pd.to_datetime, pd.to_timedelta and pd.to_numeric.\n",
      "  \n"
     ]
    }
   ],
   "source": [
    "df1=pd.read_csv(\"AAPL.csv\")\n",
    "df1=df1.convert_objects(convert_numeric=True)\n",
    "df1[\"Date\"]=pd.to_datetime(df1[\"Date\"])\n",
    "df1['sma5']=df1['Adj Close'].rolling(window=5).mean()\n",
    "df1['sma10']=df1['Adj Close'].rolling(window=10).mean()\n",
    "df1['sma_delta']=df1['sma5']-df1['sma10']\n",
    "#df1['volume_SMA5']=df1['Volume'].rolling(window=5).mean()\n",
    "#df1['volume_SMA10']=df1['Volume'].rolling(window=10).mean()\n",
    "#df1['volume_SMA_delta']=df1['volume_SMA5']-df1['volume_SMA10']\n",
    "\n",
    "url=\"https://www.quandl.com/api/v3/datasets/NS1/AAPL_US.csv?api_key=qtu8baDXX4cHaHfrVmSb\"\n",
    "s=requests.get(url).content\n",
    "df2=pd.read_csv(io.StringIO(s.decode('utf-8')))\n",
    "df2=df2.convert_objects(convert_numeric=True)\n",
    "df2[\"Date\"]=pd.to_datetime(df2.Date)\n",
    "df2=df2.sort_values('Date', ascending=True)\n",
    "df2=df2.reset_index(drop=True)\n",
    "#df2['sentMA5']=df2['Sentiment'].rolling(window=5).mean()\n",
    "#df2['sentMA10']=df2['Sentiment'].rolling(window=10).mean()\n",
    "#df2['sent_delta']=df2['sentMA5']-df2['sentMA10']\n",
    "df2['daily_sent_change']=(df2['Sentiment High']-df2['Sentiment Low'])\n",
    "\n",
    "df3=df1.merge(df2,how='left',left_on='Date',right_on='Date')\n",
    "df3=df3[['Adj Close','Volume','sma_delta','Sentiment','News Volume','News Buzz','daily_sent_change']]\n",
    "#df3=df3[['Adj Close','Volume']]\n",
    "forecast_col=\"Adj Close\"\n",
    "df3.dropna(inplace=True)\n",
    "#forecast_out = int(math.ceil(0.001 * len(df3)))\n",
    "forecast_out = 10\n",
    "\n",
    "df3['label'] = df3[forecast_col].shift(-forecast_out)\n",
    "\n",
    "X = np.array(df3.drop(['label'], 1))\n",
    "X = preprocessing.scale(X)\n",
    "X_lately = X[-forecast_out:]\n",
    "X = X[:-forecast_out]\n",
    "\n",
    "df3.dropna(inplace=True)\n",
    "\n",
    "y = np.array(df3['label'])\n",
    "\n",
    "X_train, X_test, y_train, y_test = cross_validation.train_test_split(X, y, test_size=0.3)\n",
    "            \n",
    "clf=LinearRegression(n_jobs=-1)\n",
    "clf.fit(X_train, y_train)\n",
    "accuracy = clf.score(X_test, y_test)\n",
    "print(\"Linear Regression Accuracy Is\",accuracy)\n",
    "\n",
    "forecast_set=clf.predict(X_lately)\n",
    "\n",
    "print (\"Predicted AAPL closing price for the next\",forecast_out,\"trading days:\",forecast_set)\n",
    "\n",
    "   \n"
   ]
  },
  {
   "cell_type": "code",
   "execution_count": 3,
   "metadata": {},
   "outputs": [
    {
     "name": "stdout",
     "output_type": "stream",
     "text": [
      "       Adj Close      Volume       label\n",
      "9330  172.669998  35273800.0  170.570007\n",
      "9331  171.699997  19409200.0  170.600006\n",
      "9332  172.270004  23818400.0  171.080002\n",
      "9333  172.220001  20476500.0  169.229996\n",
      "9334  173.970001  40169300.0  172.259995\n",
      "9335  176.419998  29421100.0  172.229996\n",
      "9336  174.539993  27436400.0  173.029999\n",
      "9337  174.350006  23475600.0  175.000000\n",
      "9338  175.009995  20949900.0  174.350006\n",
      "9339  175.009995  16349400.0  174.330002\n"
     ]
    }
   ],
   "source": [
    "print (df3[-forecast_out:])"
   ]
  },
  {
   "cell_type": "code",
   "execution_count": 4,
   "metadata": {},
   "outputs": [
    {
     "name": "stdout",
     "output_type": "stream",
     "text": [
      "           Date  Sentiment  Sentiment High  Sentiment Low  News Volume  \\\n",
      "1830 2018-01-05        4.0             5.0            4.0         64.0   \n",
      "1831 2018-01-06        4.0             5.0            3.0         43.0   \n",
      "1832 2018-01-07        5.0             5.0            4.0          9.0   \n",
      "1833 2018-01-08        4.0             5.0            4.0         74.0   \n",
      "1834 2018-01-09        4.0             4.0            4.0         52.0   \n",
      "\n",
      "      News Buzz  daily_sent_change  \n",
      "1830        9.0                1.0  \n",
      "1831       10.0                2.0  \n",
      "1832       10.0                1.0  \n",
      "1833       10.0                1.0  \n",
      "1834        8.0                0.0  \n"
     ]
    }
   ],
   "source": [
    "print (df2.tail())"
   ]
  },
  {
   "cell_type": "code",
   "execution_count": 5,
   "metadata": {},
   "outputs": [
    {
     "name": "stdout",
     "output_type": "stream",
     "text": [
      "           Date        Open        High         Low       Close   Adj Close  \\\n",
      "9345 2018-01-03  172.529999  174.550003  171.960007  172.229996  172.229996   \n",
      "9346 2018-01-04  172.539993  173.470001  172.080002  173.029999  173.029999   \n",
      "9347 2018-01-05  173.440002  175.369995  173.050003  175.000000  175.000000   \n",
      "9348 2018-01-08  174.350006  175.610001  173.929993  174.350006  174.350006   \n",
      "9349 2018-01-09  174.550003  175.059998  173.410004  174.330002  174.330002   \n",
      "\n",
      "          Volume        sma5       sma10  sma_delta  \n",
      "9345  29517900.0  171.079999  172.487999  -1.408000  \n",
      "9346  22434600.0  171.565998  172.337000  -0.771002  \n",
      "9347  23660000.0  172.349997  172.401999  -0.052002  \n",
      "9348  20225300.0  173.373999  172.336000   1.037999  \n",
      "9349  21580316.0  173.788001  172.268001   1.520000  \n"
     ]
    }
   ],
   "source": [
    "print (df1.tail())"
   ]
  },
  {
   "cell_type": "code",
   "execution_count": 6,
   "metadata": {},
   "outputs": [
    {
     "name": "stderr",
     "output_type": "stream",
     "text": [
      "c:\\users\\user\\appdata\\local\\programs\\python\\python36-32\\lib\\site-packages\\ipykernel_launcher.py:4: FutureWarning: convert_objects is deprecated.  Use the data-type specific converters pd.to_datetime, pd.to_timedelta and pd.to_numeric.\n",
      "  after removing the cwd from sys.path.\n"
     ]
    }
   ],
   "source": [
    "url=\"https://www.quandl.com/api/v3/datasets/NS1/AAPL_US.csv?api_key=qtu8baDXX4cHaHfrVmSb\"\n",
    "s=requests.get(url).content\n",
    "df2=pd.read_csv(io.StringIO(s.decode('utf-8')))\n",
    "df2=df2.convert_objects(convert_numeric=True)\n",
    "df2[\"Date\"]=pd.to_datetime(df2.Date)\n",
    "df2=df2.sort_values('Date', ascending=True)\n",
    "df2=df2.reset_index(drop=True)\n"
   ]
  },
  {
   "cell_type": "code",
   "execution_count": 7,
   "metadata": {},
   "outputs": [
    {
     "name": "stdout",
     "output_type": "stream",
     "text": [
      "       Adj Close      Volume       label\n",
      "9335  176.419998  29421100.0  172.229996\n",
      "9336  174.539993  27436400.0  173.029999\n",
      "9337  174.350006  23475600.0  175.000000\n",
      "9338  175.009995  20949900.0  174.350006\n",
      "9339  175.009995  16349400.0  174.330002\n"
     ]
    }
   ],
   "source": [
    "print (df3.tail())"
   ]
  },
  {
   "cell_type": "code",
   "execution_count": 8,
   "metadata": {
    "collapsed": true
   },
   "outputs": [],
   "source": [
    "df3.to_csv('forecast.csv')"
   ]
  },
  {
   "cell_type": "code",
   "execution_count": 9,
   "metadata": {},
   "outputs": [
    {
     "name": "stdout",
     "output_type": "stream",
     "text": [
      "[ 171.7141752   171.74838666  172.23316448  170.36810757  173.41754523\n",
      "  173.38599199  174.1935243   176.17564267  175.52269333  175.50209575]\n"
     ]
    }
   ],
   "source": [
    "print (forecast_set)"
   ]
  },
  {
   "cell_type": "code",
   "execution_count": 10,
   "metadata": {
    "collapsed": true
   },
   "outputs": [],
   "source": [
    "predicted=pd.DataFrame(forecast_set)"
   ]
  },
  {
   "cell_type": "code",
   "execution_count": 11,
   "metadata": {
    "collapsed": true
   },
   "outputs": [],
   "source": [
    "predicted.to_csv('predict.csv')"
   ]
  },
  {
   "cell_type": "code",
   "execution_count": null,
   "metadata": {
    "collapsed": true
   },
   "outputs": [],
   "source": []
  }
 ],
 "metadata": {
  "kernelspec": {
   "display_name": "Python 3",
   "language": "python",
   "name": "python3"
  },
  "language_info": {
   "codemirror_mode": {
    "name": "ipython",
    "version": 3
   },
   "file_extension": ".py",
   "mimetype": "text/x-python",
   "name": "python",
   "nbconvert_exporter": "python",
   "pygments_lexer": "ipython3",
   "version": "3.6.2"
  }
 },
 "nbformat": 4,
 "nbformat_minor": 2
}
